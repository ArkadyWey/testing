{
 "cells": [
  {
   "cell_type": "markdown",
   "metadata": {},
   "source": [
    "# Writing testable code"
   ]
  },
  {
   "cell_type": "code",
   "execution_count": 1,
   "metadata": {},
   "outputs": [],
   "source": [
    "def complex_data_processing(data):\n",
    "    # Step 1: Validate input data\n",
    "    if not data or not isinstance(data, list):\n",
    "        raise ValueError(\"Invalid input data. Expecting a non-empty list.\")\n",
    "\n",
    "    # Step 2: Extract relevant information\n",
    "    processed_data = []\n",
    "    for item in data:\n",
    "        if 'id' in item and 'value' in item:\n",
    "            item_id = item['id']\n",
    "            item_value = item['value']\n",
    "\n",
    "            # Step 3: Perform complex calculations\n",
    "            if item_value > 0:\n",
    "                calculated_result = item_value * 2 + 10\n",
    "            else:\n",
    "                calculated_result = item_value * 3 - 5\n",
    "\n",
    "            # Step 4: Apply additional transformations\n",
    "            transformed_result = calculated_result ** 2\n",
    "\n",
    "            # Step 5: Aggregate processed data\n",
    "            processed_data.append({'id': item_id, 'result': transformed_result})\n",
    "        else:\n",
    "            raise ValueError(\"Invalid item format. Expecting a dictionary with 'id' and 'value'.\")\n",
    "\n",
    "    # Step 6: Perform final aggregation\n",
    "    final_result = sum(item['result'] for item in processed_data)\n",
    "\n",
    "    return final_result"
   ]
  },
  {
   "cell_type": "code",
   "execution_count": 5,
   "metadata": {},
   "outputs": [
    {
     "name": "stdout",
     "output_type": "stream",
     "text": [
      "1297\n"
     ]
    }
   ],
   "source": [
    "example_data = [\n",
    "    {'id': 1, 'value': 8},\n",
    "    {'id': 2, 'value': -3},\n",
    "    {'id': 3, 'value': 5},\n",
    "    {'id': 4, 'value': 0},\n",
    "]\n",
    "print(complex_data_processing(example_data))"
   ]
  },
  {
   "cell_type": "markdown",
   "metadata": {},
   "source": [
    "# Test Driven Development"
   ]
  },
  {
   "cell_type": "markdown",
   "metadata": {},
   "source": [
    "## Definition"
   ]
  },
  {
   "cell_type": "markdown",
   "metadata": {},
   "source": [
    "Test-Driven Development (TDD) is a software development methodology that emphasizes writing tests before writing the actual code. The development process in TDD is driven by the creation of automated tests that define the desired behavior of the system or a specific component."
   ]
  },
  {
   "cell_type": "markdown",
   "metadata": {},
   "source": [
    "## Key Phases of TDD"
   ]
  },
  {
   "cell_type": "markdown",
   "metadata": {},
   "source": [
    "\n",
    "1. Write a Test:\n",
    "\n",
    "    Start by writing a test that defines a specific piece of functionality or behavior.\n",
    "    The test initially fails since the corresponding code doesn't exist.\n",
    "    Write the Minimum Code to Pass the Test:\n",
    "\n",
    "    Write the minimum amount of code necessary to make the newly created test pass.\n",
    "    This step focuses on meeting the immediate requirements of the test, not on writing a complete solution.\n",
    "\n",
    "2. Run the Tests:\n",
    "\n",
    "    Execute all the tests in the test suite to ensure that the new code didn't break existing functionality.\n",
    "    If any test fails, make adjustments to the code to fix the issues.\n",
    "\n",
    "3. Refactor Code (Optional):\n",
    "\n",
    "    Refactor the code to improve its structure, readability, or efficiency while ensuring that all tests continue to pass.\n",
    "    Refactoring is optional but can be performed without fear of introducing errors due to the safety net of existing tests.\n",
    "\n",
    "4. Repeat:\n",
    "\n",
    "    Repeat the process by writing another test for the next piece of functionality or refining existing tests.\n",
    "    The cycle continues iteratively, with each iteration building on the previously tested and verified code."
   ]
  },
  {
   "cell_type": "markdown",
   "metadata": {},
   "source": [
    "### Exercise 1 - FizzBuzz"
   ]
  },
  {
   "cell_type": "markdown",
   "metadata": {},
   "source": [
    "Specification:\n",
    "\n",
    "Returns \"Fizz\" if the input is divisible by 3\n",
    "Returns \"Buzz\" if divisible by 5\n",
    "Returns \"FizzBuzz\" if divisible by both 3 and 5\n",
    "Otherwise, returns the input number"
   ]
  },
  {
   "cell_type": "code",
   "execution_count": 1,
   "metadata": {},
   "outputs": [],
   "source": [
    "import ipytest\n",
    "ipytest.autoconfig()"
   ]
  },
  {
   "cell_type": "code",
   "execution_count": 21,
   "metadata": {},
   "outputs": [
    {
     "name": "stdout",
     "output_type": "stream",
     "text": [
      "\u001b[32m.\u001b[0m"
     ]
    },
    {
     "name": "stdout",
     "output_type": "stream",
     "text": [
      "\u001b[32m.\u001b[0m\u001b[32m.\u001b[0m\u001b[32m                                                                                          [100%]\u001b[0m\n"
     ]
    }
   ],
   "source": [
    "%%ipytest -qq\n",
    "# $ source ./venv_testing/bin/activate\n",
    "\n",
    "def FizzBuzz(input: int) -> int:\n",
    "    if (input % 3)==0 and (input % 5)==0: \n",
    "        output = \"FizzBuzz\"\n",
    "    elif (input % 3)==0: \n",
    "        output = \"Fizz\"\n",
    "    elif (input % 5)==0: \n",
    "        output = \"Buzz\"\n",
    "    else:\n",
    "        output = input\n",
    "    return output\n",
    "\n",
    "def test_FizzBuzz_3():\n",
    "    output = FizzBuzz(3)\n",
    "    assert output == \"Fizz\"\n",
    "    \n",
    "def test_FizzBuzz_5():\n",
    "    output = FizzBuzz(5)\n",
    "    assert output == \"Buzz\"\n",
    "\n",
    "def test_FizzBuzz_15():\n",
    "    output = FizzBuzz(15)\n",
    "    assert output == \"FizzBuzz\"\n"
   ]
  },
  {
   "cell_type": "markdown",
   "metadata": {},
   "source": [
    "### Exercise 2 - Stack Class"
   ]
  },
  {
   "cell_type": "markdown",
   "metadata": {},
   "source": [
    "Specification:\n",
    "\n",
    "- push(item) - add item to top of stack\n",
    "- pop() - remove and return item from top of stack\n",
    "- peek() - return item at top without removing\n",
    "- is_empty() - return bool if stack empty\n",
    "- size() - return number of items\n"
   ]
  },
  {
   "cell_type": "code",
   "execution_count": 46,
   "metadata": {},
   "outputs": [
    {
     "name": "stdout",
     "output_type": "stream",
     "text": [
      "\u001b[32m.\u001b[0m\u001b[32m.\u001b[0m\u001b[32m.\u001b[0m\u001b[32m.\u001b[0m\u001b[32m.\u001b[0m\u001b[32m.\u001b[0m\u001b[32m.\u001b[0m\u001b[32m                                                                                      [100%]\u001b[0m\n"
     ]
    }
   ],
   "source": [
    "%%ipytest -qq\n",
    "\n",
    "from typing import Union\n",
    "\n",
    "class Stack(object):\n",
    "\n",
    "    def __init__(self):\n",
    "        self.stack_list = []\n",
    "\n",
    "\n",
    "    def push(self, item: Union[int, str, float]) -> None:\n",
    "        output = self.stack_list\n",
    "        output.append(item)\n",
    "    \n",
    "    def pop(self):\n",
    "        output = self.stack_list[-1]\n",
    "        del self.stack_list[-1]\n",
    "        return output\n",
    "    \n",
    "    def peek(self):\n",
    "        output = self.stack_list[-1]\n",
    "        return output\n",
    "\n",
    "    def is_empty(self):\n",
    "        if len(self.stack_list)==0:\n",
    "            return True\n",
    "        elif len(self.stack_list)!=0:\n",
    "            return False\n",
    "        else: \n",
    "            raise Exception('stack_lenth is neither empty or full?!')  \n",
    "    \n",
    "    def size(self): \n",
    "        return len(self.stack_list)\n",
    "        \n",
    "\n",
    "def test_push_int():\n",
    "    stack = Stack()\n",
    "    item = 3\n",
    "    output = stack.push(item)\n",
    "    assert stack.stack_list[-1] == 3\n",
    "\n",
    "def test_push_str():\n",
    "    stack = Stack()\n",
    "    output = stack.push(3)\n",
    "    output = stack.push(\"try\")\n",
    "    assert stack.stack_list[-1] == \"try\" \n",
    "\n",
    "def test_push_float():\n",
    "    stack = Stack()\n",
    "    output = stack.push(3)\n",
    "    output = stack.push(\"try\")\n",
    "    output = stack.push(3.1415)\n",
    "    assert stack.stack_list[-1] == 3.1415 \n",
    "\n",
    "def test_pop():\n",
    "    stack = Stack()\n",
    "    item = 3\n",
    "    stack.push(item)\n",
    "    output = stack.pop()\n",
    "    assert output == item\n",
    "\n",
    "def test_peek():\n",
    "    stack = Stack()\n",
    "    item = 3\n",
    "    stack.push(item)\n",
    "    output = stack.peek()\n",
    "    assert output == item\n",
    "    assert output == stack.stack_list[-1]\n",
    "\n",
    "def test_is_empty():\n",
    "    stack = Stack()\n",
    "    stack.push(3)\n",
    "    assert stack.is_empty() == False\n",
    "    output = stack.pop()\n",
    "    assert stack.is_empty() == True\n",
    "\n",
    "def test_size():\n",
    "    stack = Stack()\n",
    "    assert stack.size() == 0\n",
    "    stack.push(3)\n",
    "    assert stack.size() == 1\n",
    "    stack.push(\"try\")\n",
    "    assert stack.size() == 2\n",
    "    stack.push(3.14)\n",
    "    assert stack.size() ==3 \n",
    "    \n",
    "    \n",
    "\n",
    "\n",
    "    \n",
    "\n"
   ]
  },
  {
   "cell_type": "markdown",
   "metadata": {},
   "source": [
    "### Exercise 3 - BankAccount Class"
   ]
  },
  {
   "cell_type": "markdown",
   "metadata": {},
   "source": [
    "Specification:\n",
    "\n",
    "Account creation with an initial balance.\n",
    "Deposit money into the account.\n",
    "Withdraw money from the account.\n",
    "Delete account.\n",
    "\n",
    "Extension:\n",
    "Design a class a class Bank that can have multiple BankAccount classes within it and you can facilitate payments between bank accounts. "
   ]
  },
  {
   "cell_type": "code",
   "execution_count": 54,
   "metadata": {},
   "outputs": [
    {
     "name": "stdout",
     "output_type": "stream",
     "text": [
      "\u001b[32m.\u001b[0m\u001b[32m.\u001b[0m"
     ]
    },
    {
     "name": "stdout",
     "output_type": "stream",
     "text": [
      "\u001b[32m.\u001b[0m\u001b[32m                                                                                          [100%]\u001b[0m\n"
     ]
    }
   ],
   "source": [
    "%%ipytest -qq\n",
    "\n",
    "from typing import Union\n",
    "\n",
    "\n",
    "class BankAccount():\n",
    "    \n",
    "    def __init__(self,initial_balance: Union[int, float]):\n",
    "        self.balance = initial_balance\n",
    "\n",
    "    def deposit(self, money: Union[int, float]):\n",
    "        self.balance = self.balance + money\n",
    "    \n",
    "    def withdraw(self, money: Union[int, float]):\n",
    "        self.balance = self.balance - money\n",
    "    \n",
    "    def delete(self):\n",
    "        self.balance = \"closed\"\n",
    "\n",
    "def test_deposit():\n",
    "    initial_balance = 100.1\n",
    "    account = BankAccount(initial_balance=initial_balance)\n",
    "    money = 1\n",
    "    account.deposit(money=money)\n",
    "    assert account.balance == initial_balance+money\n",
    "\n",
    "def test_withdraw():\n",
    "    initial_balance = 100.1\n",
    "    account = BankAccount(initial_balance=initial_balance)\n",
    "    money = 1\n",
    "    account.withdraw(money=money)\n",
    "    assert account.balance == initial_balance-money\n",
    "\n",
    "def test_delete():\n",
    "    initial_balance = 100.1\n",
    "    account = BankAccount(initial_balance=initial_balance)\n",
    "    assert (type(account.balance)==int or type(account.balance)==float)\n",
    "    account.delete()\n",
    "    assert type(account.balance)==str\n",
    "    assert account.balance=='closed'"
   ]
  },
  {
   "cell_type": "code",
   "execution_count": 61,
   "metadata": {},
   "outputs": [
    {
     "name": "stdout",
     "output_type": "stream",
     "text": [
      "\u001b[32m.\u001b[0m\u001b[32m.\u001b[0m\u001b[32m.\u001b[0m\u001b[32m                                                                                          [100%]\u001b[0m\n"
     ]
    }
   ],
   "source": [
    "%%ipytest -qq\n",
    "\n",
    "from typing import Union\n",
    "\n",
    "class Bank():\n",
    "    \n",
    "    def __init__(self):\n",
    "        self.accounts = []\n",
    "    \n",
    "    def add_account(self, account: BankAccount):\n",
    "        self.accounts.append(account)\n",
    "\n",
    "    def manage_payment(self, payer: BankAccount, payee: BankAccount, money: Union[int,float]):\n",
    "        if money < 0:\n",
    "            raise Exception('money should be positive since payer and payee are specified.')\n",
    "        \n",
    "        payer.withdraw(money=money)\n",
    "        payee.deposit(money=money)\n",
    "\n",
    "\n",
    "def test_add_account():\n",
    "    bank = Bank()\n",
    "    account_1 = BankAccount(100)\n",
    "    bank.add_account(account_1)\n",
    "    assert bank.accounts[-1] == account_1\n",
    "\n",
    "def test_manage_payment_internal():\n",
    "    bank = Bank()\n",
    "    account_1 = BankAccount(100)\n",
    "    account_2 = BankAccount(200)\n",
    "    bank.add_account(account_1)\n",
    "    assert bank.accounts[-1] == account_1\n",
    "    bank.add_account(account_2)\n",
    "    assert bank.accounts[-1] == account_2\n",
    "\n",
    "    bank.manage_payment(payer=account_2, payee=account_1, money=100)\n",
    "    assert bank.accounts[0].balance == 200\n",
    "    assert bank.accounts[1].balance == 100\n",
    "\n",
    "def test_manage_payment_external():\n",
    "    bank = Bank()\n",
    "    account_1 = BankAccount(100)\n",
    "    account_2 = BankAccount(200)\n",
    "    money = 100\n",
    "    bank.manage_payment(payer=account_2,payee=account_1,money=money)\n",
    "    assert account_1.balance == 200\n",
    "    assert account_2.balance == 100"
   ]
  },
  {
   "cell_type": "code",
   "execution_count": null,
   "metadata": {},
   "outputs": [],
   "source": []
  }
 ],
 "metadata": {
  "kernelspec": {
   "display_name": "cyf",
   "language": "python",
   "name": "python3"
  },
  "language_info": {
   "codemirror_mode": {
    "name": "ipython",
    "version": 3
   },
   "file_extension": ".py",
   "mimetype": "text/x-python",
   "name": "python",
   "nbconvert_exporter": "python",
   "pygments_lexer": "ipython3",
   "version": "3.11.7"
  }
 },
 "nbformat": 4,
 "nbformat_minor": 2
}
