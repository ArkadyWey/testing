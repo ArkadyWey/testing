{
 "cells": [
  {
   "cell_type": "markdown",
   "metadata": {},
   "source": [
    "# Test Driven Development"
   ]
  },
  {
   "cell_type": "markdown",
   "metadata": {},
   "source": [
    "## Definition"
   ]
  },
  {
   "cell_type": "markdown",
   "metadata": {},
   "source": [
    "Test-Driven Development (TDD) is a software development methodology that emphasizes writing tests before writing the actual code. The development process in TDD is driven by the creation of automated tests that define the desired behavior of the system or a specific component."
   ]
  },
  {
   "cell_type": "markdown",
   "metadata": {},
   "source": [
    "## Key Phases of TDD"
   ]
  },
  {
   "cell_type": "markdown",
   "metadata": {},
   "source": [
    "\n",
    "1. Write a Test:\n",
    "\n",
    "    Start by writing a test that defines a specific piece of functionality or behavior.\n",
    "    The test initially fails since the corresponding code doesn't exist.\n",
    "    Write the Minimum Code to Pass the Test:\n",
    "\n",
    "    Write the minimum amount of code necessary to make the newly created test pass.\n",
    "    This step focuses on meeting the immediate requirements of the test, not on writing a complete solution.\n",
    "\n",
    "2. Run the Tests:\n",
    "\n",
    "    Execute all the tests in the test suite to ensure that the new code didn't break existing functionality.\n",
    "    If any test fails, make adjustments to the code to fix the issues.\n",
    "\n",
    "3. Refactor Code (Optional):\n",
    "\n",
    "    Refactor the code to improve its structure, readability, or efficiency while ensuring that all tests continue to pass.\n",
    "    Refactoring is optional but can be performed without fear of introducing errors due to the safety net of existing tests.\n",
    "\n",
    "4. Repeat:\n",
    "\n",
    "    Repeat the process by writing another test for the next piece of functionality or refining existing tests.\n",
    "    The cycle continues iteratively, with each iteration building on the previously tested and verified code."
   ]
  },
  {
   "cell_type": "markdown",
   "metadata": {},
   "source": [
    "### Exercise 1 - FizzBuzz"
   ]
  },
  {
   "cell_type": "markdown",
   "metadata": {},
   "source": [
    "Specification:\n",
    "\n",
    "Returns \"Fizz\" if the input is divisible by 3\n",
    "Returns \"Buzz\" if divisible by 5\n",
    "Returns \"FizzBuzz\" if divisible by both 3 and 5\n",
    "Otherwise, returns the input number"
   ]
  },
  {
   "cell_type": "code",
   "execution_count": null,
   "metadata": {},
   "outputs": [],
   "source": [
    "def FizzBuzz(input: int) -> int:\n",
    "    pass"
   ]
  },
  {
   "cell_type": "markdown",
   "metadata": {},
   "source": [
    "### Exercise 2 - Stack Class"
   ]
  },
  {
   "cell_type": "markdown",
   "metadata": {},
   "source": [
    "Specification:\n",
    "\n",
    "- push(item) - add item to top of stack\n",
    "- pop() - remove and return item from top of stack\n",
    "- peek() - return item at top without removing\n",
    "- is_empty() - return bool if stack empty\n",
    "- size() - return number of items\n"
   ]
  },
  {
   "cell_type": "code",
   "execution_count": null,
   "metadata": {},
   "outputs": [],
   "source": [
    "from typing import Union\n",
    "\n",
    "class Stack(object):\n",
    "\n",
    "    def __init__(self):\n",
    "        pass\n",
    "\n",
    "\n",
    "    def push(item: Union[int, str, float]) -> None:\n",
    "        pass"
   ]
  },
  {
   "cell_type": "markdown",
   "metadata": {},
   "source": [
    "### Exercise 3 - BankAccount Class"
   ]
  },
  {
   "cell_type": "markdown",
   "metadata": {},
   "source": [
    "Specification:\n",
    "\n",
    "Account creation with an initial balance.\n",
    "Deposit money into the account.\n",
    "Withdraw money from the account.\n",
    "Delete account.\n",
    "\n",
    "Extension:\n",
    "Design a class a class Bank that can have multiple BankAccount classes within it and you can facilitate payments between bank accounts. "
   ]
  }
 ],
 "metadata": {
  "language_info": {
   "name": "python"
  }
 },
 "nbformat": 4,
 "nbformat_minor": 2
}
