{
 "cells": [
  {
   "cell_type": "markdown",
   "metadata": {},
   "source": [
    "# Writing testable code"
   ]
  },
  {
   "cell_type": "code",
   "execution_count": 1,
   "metadata": {},
   "outputs": [],
   "source": [
    "def complex_data_processing(data):\n",
    "    # Step 1: Validate input data\n",
    "    if not data or not isinstance(data, list):\n",
    "        raise ValueError(\"Invalid input data. Expecting a non-empty list.\")\n",
    "\n",
    "    # Step 2: Extract relevant information\n",
    "    processed_data = []\n",
    "    for item in data:\n",
    "        if 'id' in item and 'value' in item:\n",
    "            item_id = item['id']\n",
    "            item_value = item['value']\n",
    "\n",
    "            # Step 3: Perform complex calculations\n",
    "            if item_value > 0:\n",
    "                calculated_result = item_value * 2 + 10\n",
    "            else:\n",
    "                calculated_result = item_value * 3 - 5\n",
    "\n",
    "            # Step 4: Apply additional transformations\n",
    "            transformed_result = calculated_result ** 2\n",
    "\n",
    "            # Step 5: Aggregate processed data\n",
    "            processed_data.append({'id': item_id, 'result': transformed_result})\n",
    "        else:\n",
    "            raise ValueError(\"Invalid item format. Expecting a dictionary with 'id' and 'value'.\")\n",
    "\n",
    "    # Step 6: Perform final aggregation\n",
    "    final_result = sum(item['result'] for item in processed_data)\n",
    "\n",
    "    return final_result"
   ]
  },
  {
   "cell_type": "code",
   "execution_count": 5,
   "metadata": {},
   "outputs": [
    {
     "name": "stdout",
     "output_type": "stream",
     "text": [
      "1297\n"
     ]
    }
   ],
   "source": [
    "example_data = [\n",
    "    {'id': 1, 'value': 8},\n",
    "    {'id': 2, 'value': -3},\n",
    "    {'id': 3, 'value': 5},\n",
    "    {'id': 4, 'value': 0},\n",
    "]\n",
    "print(complex_data_processing(example_data))"
   ]
  },
  {
   "cell_type": "markdown",
   "metadata": {},
   "source": [
    "# Test Driven Development"
   ]
  },
  {
   "cell_type": "markdown",
   "metadata": {},
   "source": [
    "## Definition"
   ]
  },
  {
   "cell_type": "markdown",
   "metadata": {},
   "source": [
    "Test-Driven Development (TDD) is a software development methodology that emphasizes writing tests before writing the actual code. The development process in TDD is driven by the creation of automated tests that define the desired behavior of the system or a specific component."
   ]
  },
  {
   "cell_type": "markdown",
   "metadata": {},
   "source": [
    "## Key Phases of TDD"
   ]
  },
  {
   "cell_type": "markdown",
   "metadata": {},
   "source": [
    "\n",
    "1. Write a Test:\n",
    "\n",
    "    Start by writing a test that defines a specific piece of functionality or behavior.\n",
    "    The test initially fails since the corresponding code doesn't exist.\n",
    "    Write the Minimum Code to Pass the Test:\n",
    "\n",
    "    Write the minimum amount of code necessary to make the newly created test pass.\n",
    "    This step focuses on meeting the immediate requirements of the test, not on writing a complete solution.\n",
    "\n",
    "2. Run the Tests:\n",
    "\n",
    "    Execute all the tests in the test suite to ensure that the new code didn't break existing functionality.\n",
    "    If any test fails, make adjustments to the code to fix the issues.\n",
    "\n",
    "3. Refactor Code (Optional):\n",
    "\n",
    "    Refactor the code to improve its structure, readability, or efficiency while ensuring that all tests continue to pass.\n",
    "    Refactoring is optional but can be performed without fear of introducing errors due to the safety net of existing tests.\n",
    "\n",
    "4. Repeat:\n",
    "\n",
    "    Repeat the process by writing another test for the next piece of functionality or refining existing tests.\n",
    "    The cycle continues iteratively, with each iteration building on the previously tested and verified code."
   ]
  },
  {
   "cell_type": "markdown",
   "metadata": {},
   "source": [
    "### Exercise 1 - FizzBuzz"
   ]
  },
  {
   "cell_type": "markdown",
   "metadata": {},
   "source": [
    "Specification:\n",
    "\n",
    "Returns \"Fizz\" if the input is divisible by 3\n",
    "Returns \"Buzz\" if divisible by 5\n",
    "Returns \"FizzBuzz\" if divisible by both 3 and 5\n",
    "Otherwise, returns the input number"
   ]
  },
  {
   "cell_type": "code",
   "execution_count": null,
   "metadata": {},
   "outputs": [],
   "source": [
    "def FizzBuzz(input: int) -> int:\n",
    "    pass"
   ]
  },
  {
   "cell_type": "markdown",
   "metadata": {},
   "source": [
    "### Exercise 2 - Stack Class"
   ]
  },
  {
   "cell_type": "markdown",
   "metadata": {},
   "source": [
    "Specification:\n",
    "\n",
    "- push(item) - add item to top of stack\n",
    "- pop() - remove and return item from top of stack\n",
    "- peek() - return item at top without removing\n",
    "- is_empty() - return bool if stack empty\n",
    "- size() - return number of items\n"
   ]
  },
  {
   "cell_type": "code",
   "execution_count": null,
   "metadata": {},
   "outputs": [],
   "source": [
    "from typing import Union\n",
    "\n",
    "class Stack(object):\n",
    "\n",
    "    def __init__(self):\n",
    "        pass\n",
    "\n",
    "\n",
    "    def push(item: Union[int, str, float]) -> None:\n",
    "        pass"
   ]
  },
  {
   "cell_type": "markdown",
   "metadata": {},
   "source": [
    "### Exercise 3 - BankAccount Class"
   ]
  },
  {
   "cell_type": "markdown",
   "metadata": {},
   "source": [
    "Specification:\n",
    "\n",
    "Account creation with an initial balance.\n",
    "Deposit money into the account.\n",
    "Withdraw money from the account.\n",
    "Delete account.\n",
    "\n",
    "Extension:\n",
    "Design a class a class Bank that can have multiple BankAccount classes within it and you can facilitate payments between bank accounts. "
   ]
  }
 ],
 "metadata": {
  "kernelspec": {
   "display_name": "cyf",
   "language": "python",
   "name": "python3"
  },
  "language_info": {
   "codemirror_mode": {
    "name": "ipython",
    "version": 3
   },
   "file_extension": ".py",
   "mimetype": "text/x-python",
   "name": "python",
   "nbconvert_exporter": "python",
   "pygments_lexer": "ipython3",
   "version": "3.10.13"
  }
 },
 "nbformat": 4,
 "nbformat_minor": 2
}
